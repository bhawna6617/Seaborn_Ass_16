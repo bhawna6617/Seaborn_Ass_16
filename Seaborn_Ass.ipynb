{
 "cells": [
  {
   "cell_type": "markdown",
   "id": "1673c804",
   "metadata": {},
   "source": [
    "# question 1"
   ]
  },
  {
   "cell_type": "code",
   "execution_count": 1,
   "id": "c9598499",
   "metadata": {},
   "outputs": [],
   "source": [
    "# Seaborn is a popular Python data visualization library built on top of Matplotlib. It provides a high-level interface for creating informative and attractive statistical graphics. \n",
    "# five plots:-\n",
    " # 1. Scatter Plot (sns.scatterplot):-\n",
    "   # Use: Scatter plots are used to visualize the relationship between two continuous variables. \n",
    " # 2. Histogram (sns.histplot):-\n",
    "    # Use: Histograms are used to visualize the distribution of a single numeric variable.\n",
    " # 3. Box Plot (sns.boxplot):-\n",
    "    # Use: Box plots, also known as box-and-whisker plots, are used to visualize the distribution of a numeric variable and identify outliers.\n",
    "  # 4. Heatmap (sns.heatmap):-\n",
    "    # Use: Heatmaps are used to visualize the correlation or relationship between variables in a dataset."
   ]
  },
  {
   "cell_type": "markdown",
   "id": "504306d2",
   "metadata": {},
   "source": [
    "# question 2"
   ]
  },
  {
   "cell_type": "code",
   "execution_count": 3,
   "id": "faf78324",
   "metadata": {},
   "outputs": [],
   "source": [
    "#import seaborn as sns\n",
    "#import matplotlib.pyplot as plt\n",
    "\n",
    "\n",
    "#fmri = sns.load_dataset(\"fmri\")\n",
    "\n",
    "\n",
    "#sns.set(style=\"whitegrid\")  \n",
    "\n",
    "#sns.lineplot(data=fmri, x=\"timepoint\", y=\"signal\", hue=\"event\", style=\"region\")\n",
    "\n",
    "\n",
    "#plt.xlabel(\"Timepoint\")\n",
    "#plt.ylabel(\"Signal\")\n",
    "#plt.title(\"FMRI Signal Over Time\")\n",
    "#plt.legend(title=\"Event\", loc=\"upper right\")\n",
    "\n",
    "\n",
    "#plt.show()\n"
   ]
  },
  {
   "cell_type": "markdown",
   "id": "19ef2fae",
   "metadata": {},
   "source": [
    "# question 3"
   ]
  },
  {
   "cell_type": "code",
   "execution_count": 5,
   "id": "b8d68084",
   "metadata": {},
   "outputs": [],
   "source": [
    "#import seaborn as sns\n",
    "#import matplotlib.pyplot as plt\n",
    "\n",
    "\n",
    "#titanic = sns.load_dataset(\"titanic\")\n",
    "\n",
    "\n",
    "#plt.figure(figsize=(12, 5)) \n",
    "\n",
    "#plt.subplot(1, 2, 1)\n",
    "#sns.boxplot(data=titanic, x='pclass', y='age')\n",
    "#plt.title('Age Distribution by Passenger Class')\n",
    "\n",
    "\n",
    "#plt.subplot(1, 2, 2)\n",
    "#sns.boxplot(data=titanic, x='pclass', y='fare')\n",
    "#plt.title('Fare Distribution by Passenger Class')\n",
    "\n",
    "\n",
    "#plt.tight_layout()\n",
    "\n",
    "#plt.show()\n"
   ]
  },
  {
   "cell_type": "markdown",
   "id": "2650f930",
   "metadata": {},
   "source": [
    "# question 4"
   ]
  },
  {
   "cell_type": "code",
   "execution_count": 6,
   "id": "97550249",
   "metadata": {},
   "outputs": [],
   "source": [
    "#import seaborn as sns\n",
    "#import matplotlib.pyplot as plt\n",
    "\n",
    "# Load the diamonds dataset\n",
    "#diamonds = sns.load_dataset(\"diamonds\")\n",
    "\n",
    "# Create a histogram with hue for the 'cut' column\n",
    "#plt.figure(figsize=(10, 6))  # Optional: Set the figure size\n",
    "\n",
    "#sns.histplot(data=diamonds, x='price', hue='cut', multiple='stack', bins=30, palette='Set1')\n",
    "\n",
    "# Add labels and a title\n",
    "#plt.xlabel('Price')\n",
    "#plt.ylabel('Frequency')\n",
    "#plt.title('Histogram of Diamond Prices by Cut')\n",
    "\n",
    "# Show the plot\n",
    "#plt.legend(title='Cut', loc='upper right')\n",
    "#plt.show()\n"
   ]
  },
  {
   "cell_type": "markdown",
   "id": "24fca9ee",
   "metadata": {},
   "source": [
    "# question 5"
   ]
  },
  {
   "cell_type": "code",
   "execution_count": 7,
   "id": "052eb359",
   "metadata": {},
   "outputs": [],
   "source": [
    "#import seaborn as sns\n",
    "#import matplotlib.pyplot as plt\n",
    "#iris = sns.load_dataset(\"iris\")\n",
    "\n",
    "# Create a pair plot with hue for the 'species' column\n",
    "#sns.pairplot(data=iris, hue='species', palette='Set1')\n",
    "\n",
    "# Show the plot\n",
    "#plt.show()\n"
   ]
  },
  {
   "cell_type": "markdown",
   "id": "3119fb94",
   "metadata": {},
   "source": [
    "# question 6"
   ]
  },
  {
   "cell_type": "code",
   "execution_count": null,
   "id": "aa191986",
   "metadata": {},
   "outputs": [],
   "source": [
    "#import seaborn as sns\n",
    "#import matplotlib.pyplot as plt\n",
    "\n",
    "# Load the flights dataset\n",
    "#flights = sns.load_dataset(\"flights\")\n",
    "#flights_pivot = flights.pivot(\"month\", \"year\", \"passengers\")\n",
    "\n",
    "# Create a heatmap\n",
    "#plt.figure(figsize=(10, 8))  # Optional: Set the figure size\n",
    "\n",
    "#sns.heatmap(data=flights_pivot, cmap=\"YlGnBu\", annot=True, fmt=\"d\", cbar=True)\n",
    "\n",
    "# Add labels and a title\n",
    "#plt.xlabel(\"Year\")\n",
    "#plt.ylabel(\"Month\")\n",
    "#plt.title(\"Passenger Count Heatmap (Flights)\")\n",
    "\n",
    "# Show the plot\n",
    "#plt.show()\n"
   ]
  }
 ],
 "metadata": {
  "kernelspec": {
   "display_name": "Python 3 (ipykernel)",
   "language": "python",
   "name": "python3"
  },
  "language_info": {
   "codemirror_mode": {
    "name": "ipython",
    "version": 3
   },
   "file_extension": ".py",
   "mimetype": "text/x-python",
   "name": "python",
   "nbconvert_exporter": "python",
   "pygments_lexer": "ipython3",
   "version": "3.11.3"
  }
 },
 "nbformat": 4,
 "nbformat_minor": 5
}
